{
 "cells": [
  {
   "cell_type": "markdown",
   "metadata": {},
   "source": [
    "# Testing"
   ]
  },
  {
   "cell_type": "code",
   "execution_count": 26,
   "metadata": {},
   "outputs": [],
   "source": [
    "import ROOT\n",
    "import os\n",
    "import shutil\n",
    "from rootpy.io import root_open, DoesNotExist\n",
    "from rootpy.plotting import Hist, Hist2D\n",
    "from rootpy import testdata\n",
    "from rootpy import asrootpy\n",
    "\n",
    "from rootpy.extern.six.moves import range\n",
    "from rootpy.plotting import Hist, Hist2D, Hist3D, HistStack, Legend, Canvas\n",
    "from rootpy.interactive import wait"
   ]
  },
  {
   "cell_type": "code",
   "execution_count": 28,
   "metadata": {},
   "outputs": [
    {
     "name": "stdout",
     "output_type": "stream",
     "text": [
      "/ucn/orithyia_data/jberean2/PENTrack/test/HarmonicFieldTest\n"
     ]
    }
   ],
   "source": [
    "%cd test/HarmonicFieldTest/"
   ]
  },
  {
   "cell_type": "code",
   "execution_count": 34,
   "metadata": {},
   "outputs": [],
   "source": [
    "f = root_open('/ucn/orithyia_data/jberean2/PENTrack/test/HarmonicFieldTest/BFCut.out.root')\n",
    "# f = root_open('BFCut.out.root')"
   ]
  },
  {
   "cell_type": "code",
   "execution_count": 35,
   "metadata": {},
   "outputs": [
    {
     "name": "stdout",
     "output_type": "stream",
     "text": [
      "['mytree']\n"
     ]
    }
   ],
   "source": [
    "keyNames = [k.GetName() for k in f.GetListOfKeys()]\n",
    "print(keyNames)"
   ]
  },
  {
   "cell_type": "code",
   "execution_count": 38,
   "metadata": {},
   "outputs": [
    {
     "data": {
      "image/png": "[encoded data removed]",
      "text/plain": [
       "<IPython.core.display.Image object>"
      ]
     },
     "metadata": {},
     "output_type": "display_data"
    }
   ],
   "source": [
    "canvas = Canvas(width=700, height=500)\n",
    "mytree = f.mytree\n",
    "mytree.Draw(\"Bz:y\",\"\",\"\");\n",
    "canvas.Draw()"
   ]
  },
  {
   "cell_type": "code",
   "execution_count": 32,
   "metadata": {},
   "outputs": [
    {
     "name": "stdout",
     "output_type": "stream",
     "text": [
      " #######################################################################\n",
      " ###                      Welcome to PENTrack,                       ###\n",
      " ### a simulation tool for ultracold neutrons, protons and electrons ###\n",
      " #######################################################################\n",
      "Reading config from /ucn/orithyia_data/jberean2/PENTrack/test/HarmonicFieldTest/config.in\n",
      "Loading fields...\n",
      "\n",
      "\n",
      "Wrote magnetic and electric fields 10000 times into /ucn/orithyia_data/jberean2/PENTrack/test/HarmonicFieldTest/BFCut.out in 0.090000s (0.009000ms per call)\n",
      "\n",
      "Processing ../../out/TREEendlog.c(\"BFCut.out\")...\n",
      "Creating tree BFCut.out.root\n",
      "Reading data from BFCut.out\n",
      "******************************************************************************\n",
      "*Tree    :mytree    : mytree                                                 *\n",
      "*Entries :    10000 : Total =         1534089 bytes  File  Size =     506291 *\n",
      "*        :          : Tree compression factor =   3.02                       *\n",
      "******************************************************************************\n",
      "*Br    0 :x         : x/D                                                    *\n",
      "*Entries :    10000 : Total  Size=      80703 bytes  File Size  =       3234 *\n",
      "*Baskets :        3 : Basket Size=      32000 bytes  Compression=  24.80     *\n",
      "*............................................................................*\n",
      "*Br    1 :y         : y/D                                                    *\n",
      "*Entries :    10000 : Total  Size=      80703 bytes  File Size  =       3234 *\n",
      "*Baskets :        3 : Basket Size=      32000 bytes  Compression=  24.80     *\n",
      "*............................................................................*\n",
      "*Br    2 :z         : z/D                                                    *\n",
      "*Entries :    10000 : Total  Size=      80703 bytes  File Size  =       1703 *\n",
      "*Baskets :        3 : Basket Size=      32000 bytes  Compression=  47.10     *\n",
      "*............................................................................*\n",
      "*Br    3 :Bx        : Bx/D                                                   *\n",
      "*Entries :    10000 : Total  Size=      80710 bytes  File Size  =      53220 *\n",
      "*Baskets :        3 : Basket Size=      32000 bytes  Compression=   1.51     *\n",
      "*............................................................................*\n",
      "*Br    4 :dBxdx     : dBxdx/D                                                *\n",
      "*Entries :    10000 : Total  Size=      80731 bytes  File Size  =      48332 *\n",
      "*Baskets :        3 : Basket Size=      32000 bytes  Compression=   1.66     *\n",
      "*............................................................................*\n",
      "*Br    5 :dBxdy     : dBxdy/D                                                *\n",
      "*Entries :    10000 : Total  Size=      80731 bytes  File Size  =      46380 *\n",
      "*Baskets :        3 : Basket Size=      32000 bytes  Compression=   1.73     *\n",
      "*............................................................................*\n",
      "*Br    6 :dBxdz     : dBxdz/D                                                *\n",
      "*Entries :    10000 : Total  Size=      80731 bytes  File Size  =      54569 *\n",
      "*Baskets :        3 : Basket Size=      32000 bytes  Compression=   1.47     *\n",
      "*............................................................................*\n",
      "*Br    7 :By        : By/D                                                   *\n",
      "*Entries :    10000 : Total  Size=      80710 bytes  File Size  =      63158 *\n",
      "*Baskets :        3 : Basket Size=      32000 bytes  Compression=   1.27     *\n",
      "*............................................................................*\n",
      "*Br    8 :dBydx     : dBydx/D                                                *\n",
      "*Entries :    10000 : Total  Size=      80731 bytes  File Size  =      46308 *\n",
      "*Baskets :        3 : Basket Size=      32000 bytes  Compression=   1.73     *\n",
      "*............................................................................*\n",
      "*Br    9 :dBydy     : dBydy/D                                                *\n",
      "*Entries :    10000 : Total  Size=      80731 bytes  File Size  =      50686 *\n",
      "*Baskets :        3 : Basket Size=      32000 bytes  Compression=   1.58     *\n",
      "*............................................................................*\n",
      "*Br   10 :dBydz     : dBydz/D                                                *\n",
      "*Entries :    10000 : Total  Size=      80731 bytes  File Size  =      61017 *\n",
      "*Baskets :        3 : Basket Size=      32000 bytes  Compression=   1.31     *\n",
      "*............................................................................*\n",
      "*Br   11 :Bz        : Bz/D                                                   *\n",
      "*Entries :    10000 : Total  Size=      80710 bytes  File Size  =      60406 *\n",
      "*Baskets :        3 : Basket Size=      32000 bytes  Compression=   1.33     *\n",
      "*............................................................................*\n",
      "*Br   12 :dBzdx     : dBzdx/D                                                *\n",
      "*Entries :    10000 : Total  Size=      80731 bytes  File Size  =       3324 *\n",
      "*Baskets :        3 : Basket Size=      32000 bytes  Compression=  24.13     *\n",
      "*............................................................................*\n",
      "*Br   13 :dBzdy     : dBzdy/D                                                *\n",
      "*Entries :    10000 : Total  Size=      80731 bytes  File Size  =       3346 *\n",
      "*Baskets :        3 : Basket Size=      32000 bytes  Compression=  23.98     *\n",
      "*............................................................................*\n",
      "*Br   14 :dBzdz     : dBzdz/D                                                *\n",
      "*Entries :    10000 : Total  Size=      80731 bytes  File Size  =       3202 *\n",
      "*Baskets :        3 : Basket Size=      32000 bytes  Compression=  25.05     *\n",
      "*............................................................................*\n",
      "*Br   15 :Ex        : Ex/D                                                   *\n",
      "*Entries :    10000 : Total  Size=      80710 bytes  File Size  =        660 *\n",
      "*Baskets :        3 : Basket Size=      32000 bytes  Compression= 121.53     *\n",
      "*............................................................................*\n",
      "*Br   16 :Ey        : Ey/D                                                   *\n",
      "*Entries :    10000 : Total  Size=      80710 bytes  File Size  =        660 *\n",
      "*Baskets :        3 : Basket Size=      32000 bytes  Compression= 121.53     *\n",
      "*............................................................................*\n",
      "*Br   17 :Ez        : Ez/D                                                   *\n",
      "*Entries :    10000 : Total  Size=      80710 bytes  File Size  =        660 *\n",
      "*Baskets :        3 : Basket Size=      32000 bytes  Compression= 121.53     *\n",
      "*............................................................................*\n",
      "*Br   18 :V         : V/D                                                    *\n",
      "*Entries :    10000 : Total  Size=      80703 bytes  File Size  =        657 *\n",
      "*Baskets :        3 : Basket Size=      32000 bytes  Compression= 122.09     *\n",
      "*............................................................................*\n",
      "\u001b[0mroot [0] \n",
      "Attaching file BFCut.out.root as _file0...\n",
      "\u001b[0m(TFile *) 0x1644b60\n",
      "Processing showfieldmap.cxx...\n",
      "Info in <TCanvas::MakeDefCanvas>:  created default TCanvas with name c1\n",
      "\u001b[0mroot [2] ^C\u001b[D\u001b[D\n",
      "\u001b[0m\u001b[0mroot [2] \n",
      "\u001b[0m\u001b[0mroot [2] "
     ]
    }
   ],
   "source": [
    "!/ucn/orithyia_data/jberean2/PENTrack/test/HarmonicFieldTest/RunTest.sh"
   ]
  },
  {
   "cell_type": "code",
   "execution_count": null,
   "metadata": {},
   "outputs": [],
   "source": []
  }
 ],
 "metadata": {
  "kernelspec": {
   "display_name": "Python 3",
   "language": "python",
   "name": "python3"
  },
  "language_info": {
   "codemirror_mode": {
    "name": "ipython",
    "version": 3
   },
   "file_extension": ".py",
   "mimetype": "text/x-python",
   "name": "python",
   "nbconvert_exporter": "python",
   "pygments_lexer": "ipython3",
   "version": "3.6.3"
  }
 },
 "nbformat": 4,
 "nbformat_minor": 2
}
